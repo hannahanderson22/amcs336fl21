{
 "cells": [
  {
   "cell_type": "markdown",
   "id": "2872fb22",
   "metadata": {},
   "source": [
    "# Text Processing\n",
    "Examining the text within a selection of articles about the 1904 World's Fair from regional and national newspapers from 2 specific dates:\n",
    "- 5/1/1904: The date immediately after the Fair opened on 4/30/1904.\n",
    "- 12/2/1904: The date immediately after the Fair closed on 12/1/1904.\n",
    "\n",
    "File format is:\n",
    "- Line 0: Newspaper name\n",
    "- Line 1: Town name\n",
    "- Line 2: State name\n",
    "- Lines 3-...: Headline and article"
   ]
  },
  {
   "cell_type": "code",
   "execution_count": 2,
   "id": "29e9e004",
   "metadata": {},
   "outputs": [],
   "source": [
    "import os \n",
    "import pandas as pd"
   ]
  },
  {
   "cell_type": "code",
   "execution_count": 16,
   "id": "d0acd157",
   "metadata": {},
   "outputs": [
    {
     "data": {
      "text/plain": [
       "[]"
      ]
     },
     "execution_count": 16,
     "metadata": {},
     "output_type": "execute_result"
    }
   ],
   "source": [
    "# Path to clippings folder\n",
    "clippingsDir = '/Users/hannah-anderson/Desktop/AMCS336/amcs336fl21/clippings'\n",
    "\n",
    "# Path to opening day directory and its internal directories\n",
    "openingDir = clippingsDir + '/opening'\n",
    "openingRegDir = openingDir + '/regional'\n",
    "openingNatDir = openingDir + '/regional'\n",
    "\n",
    "# Path to closing day directory and its internal directories\n",
    "closingDir = clippingsDir + '/closing'\n",
    "closingRegDir = closingDir + '/regional'\n",
    "closingNatDir = closingDir + '/regional'\n",
    "\n",
    "# Test statements\n",
    "# os.listdir(clippingsDir)\n",
    "# os.listdir(openingDir)\n",
    "# os.listdir(openingRegDir)\n",
    "# os.listdir(openingNatDir)\n",
    "# os.listdir(closingDir)\n",
    "# os.listdir(closingRegDir)\n",
    "# os.listdir(closingNatDir)"
   ]
  },
  {
   "cell_type": "code",
   "execution_count": null,
   "id": "9e4c759c",
   "metadata": {},
   "outputs": [],
   "source": []
  }
 ],
 "metadata": {
  "kernelspec": {
   "display_name": "Python 3",
   "language": "python",
   "name": "python3"
  },
  "language_info": {
   "codemirror_mode": {
    "name": "ipython",
    "version": 3
   },
   "file_extension": ".py",
   "mimetype": "text/x-python",
   "name": "python",
   "nbconvert_exporter": "python",
   "pygments_lexer": "ipython3",
   "version": "3.7.11"
  }
 },
 "nbformat": 4,
 "nbformat_minor": 5
}
